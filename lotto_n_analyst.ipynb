{
 "cells": [
  {
   "cell_type": "code",
   "execution_count": 117,
   "metadata": {},
   "outputs": [],
   "source": [
    "# 로또 번호 저장 공간\n",
    "f = open(\"C:/Users/Jeongmin/Desktop/python_learning_related/lotto_machine_learning/lotto_number.txt\",\"r\")\n",
    "lotto_numbers = f.readline()"
   ]
  },
  {
   "cell_type": "code",
   "execution_count": null,
   "metadata": {},
   "outputs": [],
   "source": [
    "# 로또 번호 회차 별로 나누기\n",
    "#lotto_numbers = lotto_numbers.replace(\" \",\" \").split(\",\")\n",
    "round_lotto_nmber = []\n",
    "tmp = []\n",
    "lotto_numbers = lotto_numbers.replace('[',\"\").replace(']',\"\").replace(' ',\"\")\n",
    "lotto_numbers = list(lotto_numbers.split(\",\"))\n",
    "\n",
    "for lotto_number in lotto_numbers:\n",
    "    tmp.append(int(lotto_number))\n",
    "    if len(tmp) == 7:\n",
    "        round_lotto_nmber.append(list(tmp))\n",
    "        tmp = []"
   ]
  },
  {
   "cell_type": "code",
   "execution_count": 33,
   "metadata": {},
   "outputs": [
    {
     "name": "stdout",
     "output_type": "stream",
     "text": [
      "0\n"
     ]
    },
    {
     "ename": "TypeError",
     "evalue": "'list' object is not callable",
     "output_type": "error",
     "traceback": [
      "\u001b[1;31m---------------------------------------------------------------------------\u001b[0m",
      "\u001b[1;31mTypeError\u001b[0m                                 Traceback (most recent call last)",
      "\u001b[1;32mc:\\Users\\Jeongmin\\Desktop\\python_learning_related\\lotto_machine_learning\\lotto_n_analyst.ipynb 셀 3\u001b[0m in \u001b[0;36m<cell line: 34>\u001b[1;34m()\u001b[0m\n\u001b[0;32m     <a href='vscode-notebook-cell:/c%3A/Users/Jeongmin/Desktop/python_learning_related/lotto_machine_learning/lotto_n_analyst.ipynb#W2sZmlsZQ%3D%3D?line=34'>35</a>\u001b[0m     \u001b[39mprint\u001b[39m(j)\n\u001b[0;32m     <a href='vscode-notebook-cell:/c%3A/Users/Jeongmin/Desktop/python_learning_related/lotto_machine_learning/lotto_n_analyst.ipynb#W2sZmlsZQ%3D%3D?line=35'>36</a>\u001b[0m     denominator[j] \u001b[39m=\u001b[39m denominator[\u001b[39m0\u001b[39m]\n\u001b[1;32m---> <a href='vscode-notebook-cell:/c%3A/Users/Jeongmin/Desktop/python_learning_related/lotto_machine_learning/lotto_n_analyst.ipynb#W2sZmlsZQ%3D%3D?line=36'>37</a>\u001b[0m     percentage[j] \u001b[39m=\u001b[39m \u001b[39mfloat\u001b[39m(molecule[j]) \u001b[39m/\u001b[39m \u001b[39mfloat\u001b[39m(denominator(j))\n\u001b[0;32m     <a href='vscode-notebook-cell:/c%3A/Users/Jeongmin/Desktop/python_learning_related/lotto_machine_learning/lotto_n_analyst.ipynb#W2sZmlsZQ%3D%3D?line=40'>41</a>\u001b[0m \u001b[39mprint\u001b[39m(percentage)\n\u001b[0;32m     <a href='vscode-notebook-cell:/c%3A/Users/Jeongmin/Desktop/python_learning_related/lotto_machine_learning/lotto_n_analyst.ipynb#W2sZmlsZQ%3D%3D?line=41'>42</a>\u001b[0m \u001b[39mprint\u001b[39m(molecule)\n",
      "\u001b[1;31mTypeError\u001b[0m: 'list' object is not callable"
     ]
    }
   ],
   "source": [
    "import numpy as np\n",
    "\n",
    "list_test = []\n",
    "list_test.append([4,3])\n",
    "list_test.append([3,1])\n",
    "list_test.append([2,1])\n",
    "list_test.append([2,3])\n",
    "list_test.append([1,4])\n",
    "\n",
    "count = 0\n",
    "\n",
    "percentage = [1.5,1.5]\n",
    "molecule = [1,1,1,1]\n",
    "denominator = [4,4,4,4]\n",
    "\n",
    "#for i in range(4):\n",
    "   # molecule.append(1)\n",
    "    #denominator.append(4)\n",
    "# for j in range(4):\n",
    "  #  percentage.append(molecule[j]/denominator[j])    \n",
    "# print(percentage)\n",
    "\n",
    "# 두 배열의 교집합 찾기\n",
    "for i in range(4):\n",
    "    arr1 = np.array(list_test[i])\n",
    "    arr2 = np.array(list_test[i+1])\n",
    "    percentage_up = np.intersect1d(arr1,arr2, assume_unique=True)\n",
    "\n",
    "    if len(percentage_up) == 1:\n",
    "        molecule[int(percentage_up)-1] += 0.5\n",
    "        count += 1\n",
    "        \n",
    "denominator[0] += count*0.5\n",
    "for j in range(4):\n",
    "    denominator[j] = denominator[0]\n",
    "#    percentage[j] = molecule[j] / denominator(j)  얘가 왜 실행이 안되지 ?\n",
    " \n",
    " \n",
    "  \n",
    "print(percentage)\n",
    "print(molecule)\n",
    "print(count)\n",
    "print(denominator)\n",
    "\n",
    "\n",
    "# 확률 밀도 함수\n",
    "# from numpy import random\n",
    "# x = random.choice([3, 5, 7, 9], p=[0.1, 0.1, 0.8, 0.0], size=(5))\n",
    "# print(x)\n"
   ]
  }
 ],
 "metadata": {
  "kernelspec": {
   "display_name": "Python 3.8.8 64-bit",
   "language": "python",
   "name": "python3"
  },
  "language_info": {
   "codemirror_mode": {
    "name": "ipython",
    "version": 3
   },
   "file_extension": ".py",
   "mimetype": "text/x-python",
   "name": "python",
   "nbconvert_exporter": "python",
   "pygments_lexer": "ipython3",
   "version": "3.8.8"
  },
  "orig_nbformat": 4,
  "vscode": {
   "interpreter": {
    "hash": "a50b6fefcac2662aaf97940c14700b01590ebb011a6a2eddbdf90de1f3115003"
   }
  }
 },
 "nbformat": 4,
 "nbformat_minor": 2
}
