{
 "cells": [
  {
   "cell_type": "code",
   "execution_count": 117,
   "metadata": {},
   "outputs": [],
   "source": [
    "# 로또 번호 저장 공간\n",
    "f = open(\"C:/Users/Jeongmin/Desktop/python_learning_related/lotto_machine_learning/lotto_number.txt\",\"r\")\n",
    "lotto_numbers = f.readline()"
   ]
  },
  {
   "cell_type": "code",
   "execution_count": null,
   "metadata": {},
   "outputs": [],
   "source": [
    "# 로또 번호 회차 별로 나누기\n",
    "#lotto_numbers = lotto_numbers.replace(\" \",\" \").split(\",\")\n",
    "round_lotto_nmber = []\n",
    "tmp = []\n",
    "lotto_numbers = lotto_numbers.replace('[',\"\").replace(']',\"\").replace(' ',\"\")\n",
    "lotto_numbers = list(lotto_numbers.split(\",\"))\n",
    "\n",
    "for lotto_number in lotto_numbers:\n",
    "    tmp.append(int(lotto_number))\n",
    "    if len(tmp) == 7:\n",
    "        round_lotto_nmber.append(list(tmp))\n",
    "        tmp = []\n",
    "\n",
    "print(round_lotto_nmber)"
   ]
  },
  {
   "cell_type": "code",
   "execution_count": null,
   "metadata": {},
   "outputs": [],
   "source": []
  }
 ],
 "metadata": {
  "kernelspec": {
   "display_name": "Python 3.8.8 64-bit",
   "language": "python",
   "name": "python3"
  },
  "language_info": {
   "codemirror_mode": {
    "name": "ipython",
    "version": 3
   },
   "file_extension": ".py",
   "mimetype": "text/x-python",
   "name": "python",
   "nbconvert_exporter": "python",
   "pygments_lexer": "ipython3",
   "version": "3.8.8"
  },
  "orig_nbformat": 4,
  "vscode": {
   "interpreter": {
    "hash": "a50b6fefcac2662aaf97940c14700b01590ebb011a6a2eddbdf90de1f3115003"
   }
  }
 },
 "nbformat": 4,
 "nbformat_minor": 2
}
